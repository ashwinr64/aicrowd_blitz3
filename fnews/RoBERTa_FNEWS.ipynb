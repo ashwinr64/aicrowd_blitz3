{
  "nbformat": 4,
  "nbformat_minor": 0,
  "metadata": {
    "colab": {
      "name": "RoBERTa_FNEWS.ipynb",
      "provenance": [],
      "collapsed_sections": []
    },
    "kernelspec": {
      "name": "python3",
      "display_name": "Python 3"
    },
    "accelerator": "GPU"
  },
  "cells": [
    {
      "cell_type": "code",
      "metadata": {
        "id": "Q5vD2DhU8n9w",
        "colab_type": "code",
        "colab": {}
      },
      "source": [
        "!pip install simpletransformers"
      ],
      "execution_count": null,
      "outputs": []
    },
    {
      "cell_type": "code",
      "metadata": {
        "id": "VLiwrbs8901E",
        "colab_type": "code",
        "colab": {}
      },
      "source": [
        "from google.colab import drive\n",
        "drive.mount('/content/drive')"
      ],
      "execution_count": null,
      "outputs": []
    },
    {
      "cell_type": "code",
      "metadata": {
        "id": "c74Zu3_J6EYr",
        "colab_type": "code",
        "colab": {}
      },
      "source": [
        "from simpletransformers.classification import ClassificationModel\n",
        "import pandas as pd\n",
        "import logging\n",
        "\n",
        "\n",
        "logging.basicConfig(level=logging.INFO)\n",
        "transformers_logger = logging.getLogger(\"transformers\")\n",
        "transformers_logger.setLevel(logging.WARNING)"
      ],
      "execution_count": null,
      "outputs": []
    },
    {
      "cell_type": "code",
      "metadata": {
        "id": "FPfs-3xR_fi0",
        "colab_type": "code",
        "colab": {}
      },
      "source": [
        "fold = 0"
      ],
      "execution_count": null,
      "outputs": []
    },
    {
      "cell_type": "code",
      "metadata": {
        "id": "Ls71bNu09wgg",
        "colab_type": "code",
        "colab": {}
      },
      "source": [
        "df = pd.read_csv('/content/drive/My Drive/FNEWS/train_folds.csv')\n",
        "train_df = df.loc[df.kfold != fold]\n",
        "val_df = df.loc[df.kfold == fold]\n",
        "train_df.label = train_df.label.apply(lambda x: 1 if x=='fake' else 0)\n",
        "val_df.label = val_df.label.apply(lambda x: 1 if x=='fake' else 0)\n",
        "train_df = train_df.drop(columns=['kfold'])\n",
        "val_df = val_df.drop(columns=['kfold'])"
      ],
      "execution_count": null,
      "outputs": []
    },
    {
      "cell_type": "code",
      "metadata": {
        "id": "O7NDOtz1-s33",
        "colab_type": "code",
        "colab": {}
      },
      "source": [
        "train_df.shape"
      ],
      "execution_count": null,
      "outputs": []
    },
    {
      "cell_type": "code",
      "metadata": {
        "id": "D7kFpCiwPrsR",
        "colab_type": "code",
        "colab": {}
      },
      "source": [
        "!rm -rf outputs/"
      ],
      "execution_count": null,
      "outputs": []
    },
    {
      "cell_type": "code",
      "metadata": {
        "id": "jshGV8_msg66",
        "colab_type": "code",
        "colab": {}
      },
      "source": [
        "model = None\n",
        "import gc\n",
        "gc.collect()"
      ],
      "execution_count": null,
      "outputs": []
    },
    {
      "cell_type": "code",
      "metadata": {
        "id": "RYStxzbJ9klF",
        "colab_type": "code",
        "colab": {}
      },
      "source": [
        "# Create a ClassificationModel\n",
        "model = ClassificationModel('roberta', 'roberta-base',\n",
        "                            args= {'train_batch_size': 64, 'eval_batch_size': 64, 'fp16': True, 'overwrite_output_dir': True}) # You can set class weights by using the optional weight argument\n",
        "\n",
        "# Train the model\n",
        "model.train_model(train_df)\n",
        "\n",
        "Evaluate the model\n",
        "result, model_outputs, wrong_predictions = model.eval_model(val_df)"
      ],
      "execution_count": null,
      "outputs": []
    },
    {
      "cell_type": "code",
      "metadata": {
        "id": "TfvA_060JL8I",
        "colab_type": "code",
        "colab": {}
      },
      "source": [
        "test_df = pd.read_csv('/content/drive/My Drive/FNEWS/test.csv')\n",
        "test = test_df.text.tolist()\n",
        "predictions0, raw_outputs0 = model.predict(test)"
      ],
      "execution_count": null,
      "outputs": []
    },
    {
      "cell_type": "code",
      "metadata": {
        "id": "stDcMeHPYNOM",
        "colab_type": "code",
        "colab": {}
      },
      "source": [
        "type(raw_outputs0)"
      ],
      "execution_count": null,
      "outputs": []
    },
    {
      "cell_type": "code",
      "metadata": {
        "id": "pJl_m6py6fm1",
        "colab_type": "code",
        "colab": {}
      },
      "source": [
        "import numpy as np\n",
        "with open('roberta-preds01234.npy', 'wb') as f:\n",
        "  np.save(f, raw_outputs0)\n",
        "  np.save(f, raw_outputs1)\n",
        "  np.save(f, raw_outputs2)\n",
        "  np.save(f, raw_outputs3)\n",
        "  np.save(f, raw_outputs4)\n",
        "!cp roberta-preds01234.npy \"/content/drive/My Drive/FNEWS/\""
      ],
      "execution_count": null,
      "outputs": []
    },
    {
      "cell_type": "code",
      "metadata": {
        "id": "xV_pL8RwXGfR",
        "colab_type": "code",
        "colab": {}
      },
      "source": [
        "mean_pred = raw_outputs0 + raw_outputs1 + raw_outputs2 + raw_outputs3 + raw_outputs4\n",
        "mean_pred"
      ],
      "execution_count": null,
      "outputs": []
    },
    {
      "cell_type": "code",
      "metadata": {
        "id": "Px5t_l3aXT4Q",
        "colab_type": "code",
        "colab": {}
      },
      "source": [
        "final_pred = [i.argmax() for i in mean_pred]"
      ],
      "execution_count": null,
      "outputs": []
    },
    {
      "cell_type": "code",
      "metadata": {
        "id": "3obLaxSlXjSR",
        "colab_type": "code",
        "colab": {}
      },
      "source": [
        "submission = pd.DataFrame({'label': final_pred})\n",
        "submission.head()"
      ],
      "execution_count": null,
      "outputs": []
    },
    {
      "cell_type": "code",
      "metadata": {
        "id": "rmnpiDwCXld7",
        "colab_type": "code",
        "colab": {}
      },
      "source": [
        "submission.label = submission.label.apply(lambda x: \"fake\" if x == 1 else \"real\")"
      ],
      "execution_count": null,
      "outputs": []
    },
    {
      "cell_type": "code",
      "metadata": {
        "id": "uaHFvigOXwRm",
        "colab_type": "code",
        "colab": {}
      },
      "source": [
        "submission.head()"
      ],
      "execution_count": null,
      "outputs": []
    },
    {
      "cell_type": "code",
      "metadata": {
        "id": "kkL3SHQXXxik",
        "colab_type": "code",
        "colab": {}
      },
      "source": [
        "submission.to_csv('submission_roberta.csv', index=False)\n",
        "!cp submission_roberta_3fold.csv \"/content/drive/My Drive/FNEWS/\""
      ],
      "execution_count": null,
      "outputs": []
    }
  ]
}